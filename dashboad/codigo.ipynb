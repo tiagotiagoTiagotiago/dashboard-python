{
 "cells": [
  {
   "cell_type": "code",
   "execution_count": 2,
   "metadata": {},
   "outputs": [],
   "source": [
    "import streamlit as st #criação de dashboard\n",
    "import pandas as pd #manipulação de dados\n",
    "import plotly.express as px #construção de gráficos\n",
    "\n",
    "st.set_page_config(layout=\"wide\")\n",
    "\n",
    "df = pd.read_csv(\"supermarket_sales.csv\", sep=\";\", decimal=\",\")#separação dele está com ; e as casas decimais com ,\n"
   ]
  }
 ],
 "metadata": {
  "kernelspec": {
   "display_name": "Python 3",
   "language": "python",
   "name": "python3"
  },
  "language_info": {
   "codemirror_mode": {
    "name": "ipython",
    "version": 3
   },
   "file_extension": ".py",
   "mimetype": "text/x-python",
   "name": "python",
   "nbconvert_exporter": "python",
   "pygments_lexer": "ipython3",
   "version": "3.12.2"
  }
 },
 "nbformat": 4,
 "nbformat_minor": 2
}
